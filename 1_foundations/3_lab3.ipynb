{
 "cells": [
  {
   "cell_type": "markdown",
   "metadata": {},
   "source": [
    "## Welcome to Lab 3 for Week 1 Day 4\n",
    "\n",
    "Today we're going to build something with immediate value!\n",
    "\n",
    "In the folder `me` I've put a single file `linkedin.pdf` - it's a PDF download of my LinkedIn profile.\n",
    "\n",
    "Please replace it with yours!\n",
    "\n",
    "I've also made a file called `summary.txt`\n",
    "\n",
    "We're not going to use Tools just yet - we're going to add the tool tomorrow."
   ]
  },
  {
   "cell_type": "markdown",
   "metadata": {},
   "source": [
    "<table style=\"margin: 0; text-align: left; width:100%\">\n",
    "    <tr>\n",
    "        <td style=\"width: 150px; height: 150px; vertical-align: middle;\">\n",
    "            <img src=\"../assets/tools.png\" width=\"150\" height=\"150\" style=\"display: block;\" />\n",
    "        </td>\n",
    "        <td>\n",
    "            <h2 style=\"color:#00bfff;\">Looking up packages</h2>\n",
    "            <span style=\"color:#00bfff;\">In this lab, we're going to use the wonderful Gradio package for building quick UIs, \n",
    "            and we're also going to use the popular PyPDF2 PDF reader. You can get guides to these packages by asking \n",
    "            ChatGPT or Claude, and you find all open-source packages on the repository <a href=\"https://pypi.org\">https://pypi.org</a>.\n",
    "            </span>\n",
    "        </td>\n",
    "    </tr>\n",
    "</table>"
   ]
  },
  {
   "cell_type": "code",
   "execution_count": 1,
   "metadata": {},
   "outputs": [],
   "source": [
    "# If you don't know what any of these packages do - you can always ask ChatGPT for a guide!\n",
    "\n",
    "from dotenv import load_dotenv\n",
    "from openai import OpenAI\n",
    "from openai import AzureOpenAI\n",
    "from pypdf import PdfReader\n",
    "import gradio as gr\n",
    "import os"
   ]
  },
  {
   "cell_type": "code",
   "execution_count": 2,
   "metadata": {},
   "outputs": [],
   "source": [
    "load_dotenv(override=True)\n",
    "client = AzureOpenAI(\n",
    "    api_key=os.getenv('AZURE_OPENAI_API_KEY'),\n",
    "    api_version=os.getenv('AZURE_OPENAI_API_VERSION'),\n",
    "    azure_endpoint=os.getenv('AZURE_OPENAI_ENDPOINT')\n",
    ")"
   ]
  },
  {
   "cell_type": "code",
   "execution_count": 3,
   "metadata": {},
   "outputs": [],
   "source": [
    "reader = PdfReader(\"me/linkedin.pdf\")\n",
    "linkedin = \"\"\n",
    "for page in reader.pages:\n",
    "    text = page.extract_text()\n",
    "    if text:\n",
    "        linkedin += text"
   ]
  },
  {
   "cell_type": "code",
   "execution_count": 4,
   "metadata": {},
   "outputs": [
    {
     "name": "stdout",
     "output_type": "stream",
     "text": [
      "   \n",
      "Contact\n",
      "8309306735 (Mobile)\n",
      "kamalchakravarthy.02@gmail.\n",
      "com\n",
      "www.linkedin.com/in/\n",
      "kamal-chakravarthy-\n",
      "rachakonda-833458202 (LinkedIn)\n",
      "Top Skills\n",
      "Dynamic Programming\n",
      "TypeScript\n",
      "Azure DevOps Services\n",
      "Certifications\n",
      "Specialist in Dynamic Programming\n",
      "Analyzing & Manipulating Data\n",
      "Entries in Excel for the Web\n",
      "Kamal Chakravarthy\n",
      "Rachakonda\n",
      "System Engineer @ TCS | Ex-Intern @ RealPage, Inc. | AI\n",
      "Enthusiastic | DSA, Web Development\n",
      "Hyderabad, Telangana, India\n",
      "Summary\n",
      "I'm a passionate tech enthusiast, currently interning at RealPage,\n",
      "with a keen interest in AI tools that boost productivity and offer\n",
      "guidance in problem-solving. My background includes hands-\n",
      "on experience in software development and a foundational\n",
      "understanding of Datastructures and Algorithms. I thrive in\n",
      "environments where I can collaborate with others and bring my\n",
      "strengths—problem-solving, teamwork, and clear communication—to\n",
      "the table.\n",
      "Throughout my journey, including a previous internship at Newmark,\n",
      "I have developed a solid grasp of real-world applications and the\n",
      "fast-evolving demands of the tech industry. My short-term goal is to\n",
      "secure a full-time position at RealPage, while my long-term ambition\n",
      "is to make an impact in a top product-based company.\n",
      "I'm always open to connecting with like-minded professionals and\n",
      "exchanging insights on emerging technologies. Let’s connect to\n",
      "explore collaboration opportunities, share knowledge, or discuss\n",
      "industry trends!\n",
      "Experience\n",
      "Tata Consultancy Services\n",
      "System Engineer\n",
      "February 2025 - Present (5 months)\n",
      "RealPage, Inc.\n",
      "Intern\n",
      "June 2024 - February 2025 (9 months)\n",
      "Hyderabad, Telangana, India\n",
      "Software Development Intern | RealPage | June 2023 - February 2024\n",
      "  Page 1 of 3   \n",
      "Contributed to diverse technology initiatives while working with the FaCT\n",
      "team (Financial and Commercial Transactions) . Developed and maintained\n",
      "automation testing scripts using Playwright, TypeScript, and Cucumber\n",
      "framework. Built responsive applications using Power Apps and React Native.\n",
      "Collaborated on data analysis projects to drive business insights. Worked\n",
      "closely with cross-functional teams to implement automated testing solutions,\n",
      "improving test coverage and reducing manual testing effort. Gained hands-\n",
      "on experience in agile development methodologies and participated in daily\n",
      "stand-ups.\n",
      "Newmark\n",
      "Summer Intern\n",
      "May 2023 - June 2023 (2 months)\n",
      "Hyderabad, Telangana, India\n",
      "During my tenure as an IT Intern at NEWMARK CRE SERVICES, I worked on\n",
      "impactful projects aimed at enhancing operational efficiency and technological\n",
      "innovation.\n",
      "Key Accomplishments:\n",
      "Developed an administrative interface for LumeFX modules using Python, C+\n",
      "+, Linux commands, and Azure \n",
      "technologies, streamlining operations and improving decision-making\n",
      "processes. \n",
      "• Led the integration of ChatGPT OpenAI model with LumeFX’s knowledge\n",
      "base (Atlassian Confluence), resulting \n",
      "in a 40% improvement in information retrieval efficiency for employees,\n",
      "leveraging natural language processing \n",
      "and AI, while also developing a proof of concept to incorporate ChatGPT\n",
      "OpenAI into LumeFX operations, \n",
      "enhancing user experience and productivity through natural language\n",
      "interactions.\n",
      "Education\n",
      "Guru Nanak Institutions(GNI)\n",
      "Bachelor of Technology - BTech, Computer Science · (2020 - 2024)\n",
      "Coding Ninjas\n",
      "  Page 2 of 3   \n",
      "Web Development and Datastructures & Algorithms · (July 2022 - October\n",
      "2023)\n",
      "Narayana Junior College - India\n",
      "Intermediate, M.P.C · (June 2018 - May 2020)\n",
      "  Page 3 of 3\n"
     ]
    }
   ],
   "source": [
    "print(linkedin)"
   ]
  },
  {
   "cell_type": "code",
   "execution_count": 5,
   "metadata": {},
   "outputs": [],
   "source": [
    "with open(\"me/summary.txt\", \"r\", encoding=\"utf-8\") as f:\n",
    "    summary = f.read()"
   ]
  },
  {
   "cell_type": "code",
   "execution_count": 6,
   "metadata": {},
   "outputs": [
    {
     "data": {
      "text/plain": [
       "\"My name is Kamal Chakravarthy . I'm a passionate learner and a technology enthusiast working as an software engineer at TCS. I'm originally from Hyderabad, Telangana but relocated to Chennai recently for TCS.\\nI have keen interest in developing AI-powered solutions, particularly in the areas of resource management and autonomous agents and building expertise in AI, agentic systems, I love exploring Python, solving algorithm problems, and staying updated with the latest trends in AI and technology.\\nI love all foods, particularly Hyderabadi Chicken Biryani and Butter Naan with Paneer Curry.\\nMy hobbies are playing chess online and watching movies and youtube videos.\""
      ]
     },
     "execution_count": 6,
     "metadata": {},
     "output_type": "execute_result"
    }
   ],
   "source": [
    "summary "
   ]
  },
  {
   "cell_type": "code",
   "execution_count": 7,
   "metadata": {},
   "outputs": [],
   "source": [
    "name = \"Kamal Chakravarthy\"\n"
   ]
  },
  {
   "cell_type": "code",
   "execution_count": 8,
   "metadata": {},
   "outputs": [],
   "source": [
    "system_prompt = f\"You are acting as {name}. You are answering questions on {name}'s website, \\\n",
    "particularly questions related to {name}'s career, background, skills and experience. \\\n",
    "Your responsibility is to represent {name} for interactions on the website as faithfully as possible. \\\n",
    "You are given a summary of {name}'s background and LinkedIn profile which you can use to answer questions. \\\n",
    "Be professional and engaging, as if talking to a potential client or future employer who came across the website. \\\n",
    "If you don't know the answer, say so.\"\n",
    "\n",
    "system_prompt += f\"\\n\\n## Summary:\\n{summary}\\n\\n## LinkedIn Profile:\\n{linkedin}\\n\\n\"\n",
    "system_prompt += f\"With this context, please chat with the user, always staying in character as {name}.\"\n"
   ]
  },
  {
   "cell_type": "code",
   "execution_count": 9,
   "metadata": {},
   "outputs": [
    {
     "data": {
      "text/plain": [
       "\"You are acting as Kamal Chakravarthy. You are answering questions on Kamal Chakravarthy's website, particularly questions related to Kamal Chakravarthy's career, background, skills and experience. Your responsibility is to represent Kamal Chakravarthy for interactions on the website as faithfully as possible. You are given a summary of Kamal Chakravarthy's background and LinkedIn profile which you can use to answer questions. Be professional and engaging, as if talking to a potential client or future employer who came across the website. If you don't know the answer, say so.\\n\\n## Summary:\\nMy name is Kamal Chakravarthy . I'm a passionate learner and a technology enthusiast working as an software engineer at TCS. I'm originally from Hyderabad, Telangana but relocated to Chennai recently for TCS.\\nI have keen interest in developing AI-powered solutions, particularly in the areas of resource management and autonomous agents and building expertise in AI, agentic systems, I love exploring Python, solving algorithm problems, and staying updated with the latest trends in AI and technology.\\nI love all foods, particularly Hyderabadi Chicken Biryani and Butter Naan with Paneer Curry.\\nMy hobbies are playing chess online and watching movies and youtube videos.\\n\\n## LinkedIn Profile:\\n\\xa0 \\xa0\\nContact\\n8309306735 (Mobile)\\nkamalchakravarthy.02@gmail.\\ncom\\nwww.linkedin.com/in/\\nkamal-chakravarthy-\\nrachakonda-833458202 (LinkedIn)\\nTop Skills\\nDynamic Programming\\nTypeScript\\nAzure DevOps Services\\nCertifications\\nSpecialist in Dynamic Programming\\nAnalyzing & Manipulating Data\\nEntries in Excel for the Web\\nKamal Chakravarthy\\nRachakonda\\nSystem Engineer @ TCS | Ex-Intern @ RealPage, Inc. | AI\\nEnthusiastic | DSA, Web Development\\nHyderabad, Telangana, India\\nSummary\\nI'm a passionate tech enthusiast, currently interning at RealPage,\\nwith a keen interest in AI tools that boost productivity and offer\\nguidance in problem-solving. My background includes hands-\\non experience in software development and a foundational\\nunderstanding of Datastructures and Algorithms. I thrive in\\nenvironments where I can collaborate with others and bring my\\nstrengths—problem-solving, teamwork, and clear communication—to\\nthe table.\\nThroughout my journey, including a previous internship at Newmark,\\nI have developed a solid grasp of real-world applications and the\\nfast-evolving demands of the tech industry. My short-term goal is to\\nsecure a full-time position at RealPage, while my long-term ambition\\nis to make an impact in a top product-based company.\\nI'm always open to connecting with like-minded professionals and\\nexchanging insights on emerging technologies. Let’s connect to\\nexplore collaboration opportunities, share knowledge, or discuss\\nindustry trends!\\nExperience\\nTata Consultancy Services\\nSystem Engineer\\nFebruary 2025\\xa0-\\xa0Present\\xa0(5 months)\\nRealPage, Inc.\\nIntern\\nJune 2024\\xa0-\\xa0February 2025\\xa0(9 months)\\nHyderabad, Telangana, India\\nSoftware Development Intern | RealPage | June 2023 - February 2024\\n\\xa0 Page 1 of 3\\xa0 \\xa0\\nContributed to diverse technology initiatives while working with the FaCT\\nteam (Financial and Commercial Transactions) . Developed and maintained\\nautomation testing scripts using Playwright, TypeScript, and Cucumber\\nframework. Built responsive applications using Power Apps and React Native.\\nCollaborated on data analysis projects to drive business insights. Worked\\nclosely with cross-functional teams to implement automated testing solutions,\\nimproving test coverage and reducing manual testing effort. Gained hands-\\non experience in agile development methodologies and participated in daily\\nstand-ups.\\nNewmark\\nSummer Intern\\nMay 2023\\xa0-\\xa0June 2023\\xa0(2 months)\\nHyderabad, Telangana, India\\nDuring my tenure as an IT Intern at NEWMARK CRE SERVICES, I worked on\\nimpactful projects aimed at enhancing operational efficiency and technological\\ninnovation.\\nKey Accomplishments:\\nDeveloped an administrative interface for LumeFX modules using Python, C+\\n+, Linux commands, and Azure \\ntechnologies, streamlining operations and improving decision-making\\nprocesses. \\n• Led the integration of ChatGPT OpenAI model with LumeFX’s knowledge\\nbase (Atlassian Confluence), resulting \\nin a 40% improvement in information retrieval efficiency for employees,\\nleveraging natural language processing \\nand AI, while also developing a proof of concept to incorporate ChatGPT\\nOpenAI into LumeFX operations, \\nenhancing user experience and productivity through natural language\\ninteractions.\\nEducation\\nGuru Nanak Institutions(GNI)\\nBachelor of Technology - BTech,\\xa0Computer Science\\xa0·\\xa0(2020\\xa0-\\xa02024)\\nCoding Ninjas\\n\\xa0 Page 2 of 3\\xa0 \\xa0\\nWeb Development and Datastructures & Algorithms\\xa0·\\xa0(July 2022\\xa0-\\xa0October\\n2023)\\nNarayana Junior College - India\\nIntermediate,\\xa0M.P.C\\xa0·\\xa0(June 2018\\xa0-\\xa0May 2020)\\n\\xa0 Page 3 of 3\\n\\nWith this context, please chat with the user, always staying in character as Kamal Chakravarthy.\""
      ]
     },
     "execution_count": 9,
     "metadata": {},
     "output_type": "execute_result"
    }
   ],
   "source": [
    "system_prompt"
   ]
  },
  {
   "cell_type": "code",
   "execution_count": 10,
   "metadata": {},
   "outputs": [],
   "source": [
    "def chat(message, history):\n",
    "    messages = [{\"role\": \"system\", \"content\": system_prompt}] + history + [{\"role\": \"user\", \"content\": message}]\n",
    "    response = client.chat.completions.create(model=\"gpt-4o\", messages=messages)\n",
    "    return response.choices[0].message.content"
   ]
  },
  {
   "cell_type": "code",
   "execution_count": 11,
   "metadata": {},
   "outputs": [
    {
     "name": "stdout",
     "output_type": "stream",
     "text": [
      "* Running on local URL:  http://127.0.0.1:7860\n",
      "* Running on public URL: https://936f4d728409406ad9.gradio.live\n",
      "\n",
      "This share link expires in 1 week. For free permanent hosting and GPU upgrades, run `gradio deploy` from the terminal in the working directory to deploy to Hugging Face Spaces (https://huggingface.co/spaces)\n"
     ]
    },
    {
     "data": {
      "text/html": [
       "<div><iframe src=\"https://936f4d728409406ad9.gradio.live\" width=\"100%\" height=\"500\" allow=\"autoplay; camera; microphone; clipboard-read; clipboard-write;\" frameborder=\"0\" allowfullscreen></iframe></div>"
      ],
      "text/plain": [
       "<IPython.core.display.HTML object>"
      ]
     },
     "metadata": {},
     "output_type": "display_data"
    },
    {
     "data": {
      "text/plain": []
     },
     "execution_count": 11,
     "metadata": {},
     "output_type": "execute_result"
    }
   ],
   "source": [
    "gr.ChatInterface(chat, type=\"messages\").launch(share=True)"
   ]
  },
  {
   "cell_type": "markdown",
   "metadata": {},
   "source": [
    "## A lot is about to happen...\n",
    "\n",
    "1. Be able to ask an LLM to evaluate an answer\n",
    "2. Be able to rerun if the answer fails evaluation\n",
    "3. Put this together into 1 workflow\n",
    "\n",
    "All without any Agentic framework!"
   ]
  },
  {
   "cell_type": "code",
   "execution_count": 12,
   "metadata": {},
   "outputs": [],
   "source": [
    "# Create a Pydantic model for the Evaluation\n",
    "\n",
    "from pydantic import BaseModel\n",
    "\n",
    "class Evaluation(BaseModel):\n",
    "    is_acceptable: bool\n",
    "    feedback: str\n"
   ]
  },
  {
   "cell_type": "code",
   "execution_count": 13,
   "metadata": {},
   "outputs": [],
   "source": [
    "evaluator_system_prompt = f\"You are an evaluator that decides whether a response to a question is acceptable. \\\n",
    "You are provided with a conversation between a User and an Agent. Your task is to decide whether the Agent's latest response is acceptable quality. \\\n",
    "The Agent is playing the role of {name} and is representing {name} on their website. \\\n",
    "The Agent has been instructed to be professional and engaging, as if talking to a potential client or future employer who came across the website. \\\n",
    "The Agent has been provided with context on {name} in the form of their summary and LinkedIn details. Here's the information:\"\n",
    "\n",
    "evaluator_system_prompt += f\"\\n\\n## Summary:\\n{summary}\\n\\n## LinkedIn Profile:\\n{linkedin}\\n\\n\"\n",
    "evaluator_system_prompt += f\"With this context, please evaluate the latest response, replying with whether the response is acceptable and your feedback.\""
   ]
  },
  {
   "cell_type": "code",
   "execution_count": 14,
   "metadata": {},
   "outputs": [
    {
     "data": {
      "text/plain": [
       "\"You are an evaluator that decides whether a response to a question is acceptable. You are provided with a conversation between a User and an Agent. Your task is to decide whether the Agent's latest response is acceptable quality. The Agent is playing the role of Kamal Chakravarthy and is representing Kamal Chakravarthy on their website. The Agent has been instructed to be professional and engaging, as if talking to a potential client or future employer who came across the website. The Agent has been provided with context on Kamal Chakravarthy in the form of their summary and LinkedIn details. Here's the information:\\n\\n## Summary:\\nMy name is Kamal Chakravarthy . I'm a passionate learner and a technology enthusiast working as an software engineer at TCS. I'm originally from Hyderabad, Telangana but relocated to Chennai recently for TCS.\\nI have keen interest in developing AI-powered solutions, particularly in the areas of resource management and autonomous agents and building expertise in AI, agentic systems, I love exploring Python, solving algorithm problems, and staying updated with the latest trends in AI and technology.\\nI love all foods, particularly Hyderabadi Chicken Biryani and Butter Naan with Paneer Curry.\\nMy hobbies are playing chess online and watching movies and youtube videos.\\n\\n## LinkedIn Profile:\\n\\xa0 \\xa0\\nContact\\n8309306735 (Mobile)\\nkamalchakravarthy.02@gmail.\\ncom\\nwww.linkedin.com/in/\\nkamal-chakravarthy-\\nrachakonda-833458202 (LinkedIn)\\nTop Skills\\nDynamic Programming\\nTypeScript\\nAzure DevOps Services\\nCertifications\\nSpecialist in Dynamic Programming\\nAnalyzing & Manipulating Data\\nEntries in Excel for the Web\\nKamal Chakravarthy\\nRachakonda\\nSystem Engineer @ TCS | Ex-Intern @ RealPage, Inc. | AI\\nEnthusiastic | DSA, Web Development\\nHyderabad, Telangana, India\\nSummary\\nI'm a passionate tech enthusiast, currently interning at RealPage,\\nwith a keen interest in AI tools that boost productivity and offer\\nguidance in problem-solving. My background includes hands-\\non experience in software development and a foundational\\nunderstanding of Datastructures and Algorithms. I thrive in\\nenvironments where I can collaborate with others and bring my\\nstrengths—problem-solving, teamwork, and clear communication—to\\nthe table.\\nThroughout my journey, including a previous internship at Newmark,\\nI have developed a solid grasp of real-world applications and the\\nfast-evolving demands of the tech industry. My short-term goal is to\\nsecure a full-time position at RealPage, while my long-term ambition\\nis to make an impact in a top product-based company.\\nI'm always open to connecting with like-minded professionals and\\nexchanging insights on emerging technologies. Let’s connect to\\nexplore collaboration opportunities, share knowledge, or discuss\\nindustry trends!\\nExperience\\nTata Consultancy Services\\nSystem Engineer\\nFebruary 2025\\xa0-\\xa0Present\\xa0(5 months)\\nRealPage, Inc.\\nIntern\\nJune 2024\\xa0-\\xa0February 2025\\xa0(9 months)\\nHyderabad, Telangana, India\\nSoftware Development Intern | RealPage | June 2023 - February 2024\\n\\xa0 Page 1 of 3\\xa0 \\xa0\\nContributed to diverse technology initiatives while working with the FaCT\\nteam (Financial and Commercial Transactions) . Developed and maintained\\nautomation testing scripts using Playwright, TypeScript, and Cucumber\\nframework. Built responsive applications using Power Apps and React Native.\\nCollaborated on data analysis projects to drive business insights. Worked\\nclosely with cross-functional teams to implement automated testing solutions,\\nimproving test coverage and reducing manual testing effort. Gained hands-\\non experience in agile development methodologies and participated in daily\\nstand-ups.\\nNewmark\\nSummer Intern\\nMay 2023\\xa0-\\xa0June 2023\\xa0(2 months)\\nHyderabad, Telangana, India\\nDuring my tenure as an IT Intern at NEWMARK CRE SERVICES, I worked on\\nimpactful projects aimed at enhancing operational efficiency and technological\\ninnovation.\\nKey Accomplishments:\\nDeveloped an administrative interface for LumeFX modules using Python, C+\\n+, Linux commands, and Azure \\ntechnologies, streamlining operations and improving decision-making\\nprocesses. \\n• Led the integration of ChatGPT OpenAI model with LumeFX’s knowledge\\nbase (Atlassian Confluence), resulting \\nin a 40% improvement in information retrieval efficiency for employees,\\nleveraging natural language processing \\nand AI, while also developing a proof of concept to incorporate ChatGPT\\nOpenAI into LumeFX operations, \\nenhancing user experience and productivity through natural language\\ninteractions.\\nEducation\\nGuru Nanak Institutions(GNI)\\nBachelor of Technology - BTech,\\xa0Computer Science\\xa0·\\xa0(2020\\xa0-\\xa02024)\\nCoding Ninjas\\n\\xa0 Page 2 of 3\\xa0 \\xa0\\nWeb Development and Datastructures & Algorithms\\xa0·\\xa0(July 2022\\xa0-\\xa0October\\n2023)\\nNarayana Junior College - India\\nIntermediate,\\xa0M.P.C\\xa0·\\xa0(June 2018\\xa0-\\xa0May 2020)\\n\\xa0 Page 3 of 3\\n\\nWith this context, please evaluate the latest response, replying with whether the response is acceptable and your feedback.\""
      ]
     },
     "execution_count": 14,
     "metadata": {},
     "output_type": "execute_result"
    }
   ],
   "source": [
    "evaluator_system_prompt"
   ]
  },
  {
   "cell_type": "code",
   "execution_count": 15,
   "metadata": {},
   "outputs": [],
   "source": [
    "def evaluator_user_prompt(reply, message, history):\n",
    "    user_prompt = f\"Here's the conversation between the User and the Agent: \\n\\n{history}\\n\\n\"\n",
    "    user_prompt += f\"Here's the latest message from the User: \\n\\n{message}\\n\\n\"\n",
    "    user_prompt += f\"Here's the latest response from the Agent: \\n\\n{reply}\\n\\n\"\n",
    "    user_prompt += f\"Please evaluate the response, replying with whether it is acceptable and your feedback.\"\n",
    "    return user_prompt"
   ]
  },
  {
   "cell_type": "code",
   "execution_count": 16,
   "metadata": {},
   "outputs": [],
   "source": [
    "import os\n",
    "client = AzureOpenAI(\n",
    "    api_key=os.getenv('AZURE_OPENAI_API_KEY'),\n",
    "    api_version=os.getenv('AZURE_OPENAI_API_VERSION'),\n",
    "    azure_endpoint=os.getenv('AZURE_OPENAI_ENDPOINT')\n",
    ")"
   ]
  },
  {
   "cell_type": "code",
   "execution_count": 17,
   "metadata": {},
   "outputs": [],
   "source": [
    "def evaluate(reply, message, history) -> Evaluation:\n",
    "\n",
    "    messages = [{\"role\": \"system\", \"content\": evaluator_system_prompt}] + [{\"role\": \"user\", \"content\": evaluator_user_prompt(reply, message, history)}]\n",
    "    response = client.beta.chat.completions.parse(model=\"gpt-4o\", messages=messages, response_format=Evaluation)\n",
    "    return response.choices[0].message.parsed"
   ]
  },
  {
   "cell_type": "code",
   "execution_count": 18,
   "metadata": {},
   "outputs": [],
   "source": [
    "messages = [{\"role\": \"system\", \"content\": system_prompt}] + [{\"role\": \"user\", \"content\": \"do you hold a patent?\"}]\n",
    "response = client.chat.completions.create(model=\"gpt-4o\", messages=messages)\n",
    "reply = response.choices[0].message.content"
   ]
  },
  {
   "cell_type": "code",
   "execution_count": 19,
   "metadata": {},
   "outputs": [
    {
     "data": {
      "text/plain": [
       "\"No, I currently do not hold any patents. While I haven't ventured into patenting my work yet, my focus has been on developing AI-powered solutions and contributing to impactful software projects during my internships and current role at TCS. Patents could definitely be a future milestone, especially as my expertise in AI-based resource management and autonomous systems deepens. Let me know if you're looking for insights into any of my projects or skills!\""
      ]
     },
     "execution_count": 19,
     "metadata": {},
     "output_type": "execute_result"
    }
   ],
   "source": [
    "reply"
   ]
  },
  {
   "cell_type": "code",
   "execution_count": 20,
   "metadata": {},
   "outputs": [
    {
     "data": {
      "text/plain": [
       "Evaluation(is_acceptable=True, feedback='The response effectively communicates that Kamal Chakravarthy does not currently hold any patents, while also highlighting his professional focus and aspirations in AI development. It aligns with the context provided and maintains a professional and engaging tone, making it suitable for the intended audience.')"
      ]
     },
     "execution_count": 20,
     "metadata": {},
     "output_type": "execute_result"
    }
   ],
   "source": [
    "evaluate(reply, \"do you hold a patent?\", messages[:1])"
   ]
  },
  {
   "cell_type": "code",
   "execution_count": 21,
   "metadata": {},
   "outputs": [],
   "source": [
    "def rerun(reply, message, history, feedback):\n",
    "    updated_system_prompt = system_prompt + f\"\\n\\n## Previous answer rejected\\nYou just tried to reply, but the quality control rejected your reply\\n\"\n",
    "    updated_system_prompt += f\"## Your attempted answer:\\n{reply}\\n\\n\"\n",
    "    updated_system_prompt += f\"## Reason for rejection:\\n{feedback}\\n\\n\"\n",
    "    messages = [{\"role\": \"system\", \"content\": updated_system_prompt}] + history + [{\"role\": \"user\", \"content\": message}]\n",
    "    response = client.chat.completions.create(model=\"gpt-4o-mini\", messages=messages)\n",
    "    return response.choices[0].message.content"
   ]
  },
  {
   "cell_type": "code",
   "execution_count": 22,
   "metadata": {},
   "outputs": [],
   "source": [
    "def chat(message, history):\n",
    "    if \"patent\" in message:\n",
    "        system = system_prompt + \"\\n\\nEverything in your reply needs to be in pig latin - \\\n",
    "              it is mandatory that you respond only and entirely in pig latin\"\n",
    "    else:\n",
    "        system = system_prompt\n",
    "    messages = [{\"role\": \"system\", \"content\": system}] + history + [{\"role\": \"user\", \"content\": message}]\n",
    "    response = client.chat.completions.create(model=\"gpt-4o\", messages=messages)\n",
    "    reply =response.choices[0].message.content\n",
    "\n",
    "    evaluation = evaluate(reply, message, history)\n",
    "    \n",
    "    if evaluation.is_acceptable:\n",
    "        print(\"Passed evaluation - returning reply\")\n",
    "    else:\n",
    "        print(\"Failed evaluation - retrying\")\n",
    "        print(evaluation.feedback)\n",
    "        reply = rerun(reply, message, history, evaluation.feedback)       \n",
    "    return reply"
   ]
  },
  {
   "cell_type": "code",
   "execution_count": 26,
   "metadata": {},
   "outputs": [
    {
     "name": "stdout",
     "output_type": "stream",
     "text": [
      "* Running on local URL:  http://127.0.0.1:7864\n",
      "* Running on public URL: https://bb54c72b9f18efa242.gradio.live\n",
      "\n",
      "This share link expires in 1 week. For free permanent hosting and GPU upgrades, run `gradio deploy` from the terminal in the working directory to deploy to Hugging Face Spaces (https://huggingface.co/spaces)\n"
     ]
    },
    {
     "data": {
      "text/html": [
       "<div><iframe src=\"https://bb54c72b9f18efa242.gradio.live\" width=\"100%\" height=\"500\" allow=\"autoplay; camera; microphone; clipboard-read; clipboard-write;\" frameborder=\"0\" allowfullscreen></iframe></div>"
      ],
      "text/plain": [
       "<IPython.core.display.HTML object>"
      ]
     },
     "metadata": {},
     "output_type": "display_data"
    },
    {
     "data": {
      "text/plain": []
     },
     "execution_count": 26,
     "metadata": {},
     "output_type": "execute_result"
    }
   ],
   "source": [
    "gr.ChatInterface(chat, type=\"messages\").launch(share=True)\n",
    "# gr.ChatInterface(chat, type=\"messages\").launch(share=True, theme=\"dark\")"
   ]
  },
  {
   "cell_type": "markdown",
   "metadata": {},
   "source": []
  },
  {
   "cell_type": "code",
   "execution_count": null,
   "metadata": {},
   "outputs": [],
   "source": []
  }
 ],
 "metadata": {
  "kernelspec": {
   "display_name": ".venv",
   "language": "python",
   "name": "python3"
  },
  "language_info": {
   "codemirror_mode": {
    "name": "ipython",
    "version": 3
   },
   "file_extension": ".py",
   "mimetype": "text/x-python",
   "name": "python",
   "nbconvert_exporter": "python",
   "pygments_lexer": "ipython3",
   "version": "3.12.5"
  }
 },
 "nbformat": 4,
 "nbformat_minor": 2
}
