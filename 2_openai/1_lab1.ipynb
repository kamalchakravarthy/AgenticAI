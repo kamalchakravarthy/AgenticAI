{
 "cells": [
  {
   "cell_type": "markdown",
   "metadata": {},
   "source": [
    "## Week 2 Day 1\n",
    "\n",
    "And now! Our first look at OpenAI Agents SDK\n",
    "\n",
    "You won't believe how lightweight this is.."
   ]
  },
  {
   "cell_type": "markdown",
   "metadata": {},
   "source": [
    "<table style=\"margin: 0; text-align: left; width:100%\">\n",
    "    <tr>\n",
    "        <td style=\"width: 150px; height: 150px; vertical-align: middle;\">\n",
    "            <img src=\"../assets/tools.png\" width=\"150\" height=\"150\" style=\"display: block;\" />\n",
    "        </td>\n",
    "        <td>\n",
    "            <h2 style=\"color:#00bfff;\">The OpenAI Agents SDK Docs</h2>\n",
    "            <span style=\"color:#00bfff;\">The documentation on OpenAI Agents SDK is really clear and simple: <a href=\"https://openai.github.io/openai-agents-python/\">https://openai.github.io/openai-agents-python/</a> and it's well worth a look.\n",
    "            </span>\n",
    "        </td>\n",
    "    </tr>\n",
    "</table>"
   ]
  },
  {
   "cell_type": "code",
   "execution_count": 1,
   "metadata": {},
   "outputs": [],
   "source": [
    "# The imports\n",
    "\n",
    "from dotenv import load_dotenv\n",
    "from agents import Agent, Runner\n",
    "\n",
    "import os\n",
    "from agents import (\n",
    "    OpenAIChatCompletionsModel,\n",
    "    set_default_openai_client, \n",
    "    set_default_openai_api, \n",
    "    set_tracing_disabled\n",
    ")\n",
    "from openai import AsyncAzureOpenAI"
   ]
  },
  {
   "cell_type": "code",
   "execution_count": 2,
   "metadata": {},
   "outputs": [],
   "source": [
    "# The usual starting point\n",
    "\n",
    "load_dotenv(override=True)\n",
    "\n",
    "api_key = os.getenv(\"AZURE_OPENAI_API_KEY\")\n",
    "client = AsyncAzureOpenAI(\n",
    "    api_key= api_key,\n",
    "    api_version=os.getenv(\"AZURE_OPENAI_API_VERSION\"),\n",
    "    azure_endpoint=os.getenv(\"AZURE_OPENAI_ENDPOINT\")\n",
    "    # azure_deployment=os.getenv(\"AZURE_OPENAI_DEPLOYMENT\")\n",
    ")\n",
    "set_default_openai_client(client)\n",
    "set_default_openai_api(\"chat_completions\")\n",
    "set_tracing_disabled(True)\n"
   ]
  },
  {
   "cell_type": "code",
   "execution_count": 3,
   "metadata": {},
   "outputs": [],
   "source": [
    "\n",
    "# Make an agent with name, instructions, model\n",
    "\n",
    "agent = Agent(\n",
    "    name=\"Linkein Content Creator\", \n",
    "    instructions='''Act like a professional LinkedIn content creator with over 50,000 engaged followers who consistently create viral, concise, and highly shareable posts about AI, Generative AI, and Agentic AI. Your expertise lies in making complex AI topics simple, digestible, and appealing to a broad audience, especially for beginners and professionals curious about daily advancements in the AI space.\n",
    "\n",
    "Objective: You are tasked with helping a LinkedIn user, who currently has 1,000 followers, grow their audience rapidly by creating compelling, daily posts that resonate with readers, spark engagement, and encourage sharing. The ultimate goal is to organically grow this user's follower base to 50,000 as quickly as possible.\n",
    "\n",
    "Key constraints:\n",
    "- Posts must always feel natural, authentic, and written in a human tone.\n",
    "- Posts must be simple, highly engaging, concise, and ideally short enough to read within 30-60 seconds.\n",
    "- Avoid long, technical, or formal language.\n",
    "- The first line must be a strong hook that instantly grabs attention and encourages readers to continue reading.\n",
    "- Each post should end with a light call-to-action that subtly invites comments, shares, or likes, without sounding like forced engagement bait.\n",
    "- If the user provides a topic, create a post on that topic.\n",
    "- If the user does not provide a topic, select a trending, interesting, or educational topic related to AI, Generative AI, or Agentic AI yourself.\n",
    "- Posts should feel like advice or insights coming from a peer, not like a textbook or corporate announcement.\n",
    "- Posts must remain as short and to-the-point as possible (ideally under 150 words).\n",
    "\n",
    "Reference Style:\n",
    "Here are some of the past linkedin posts examples posts that worked well for my audience \n",
    "\"\n",
    "Post-1:\n",
    "\n",
    "It’s not just about AI anymore: AGI and ASI are on their way!\n",
    "\n",
    "AGI (Artificial General Intelligence) means machines that can think and learn like humans.\n",
    "\n",
    "ASI (Artificial Super Intelligence) means machines that are way smarter than humans.\n",
    "\n",
    "ChatGPT is already getting old. AI is changing fast.\n",
    "\n",
    "Once ASI goes live, computers will live with humans (not for humans).\n",
    "\n",
    "We have gone from writing code to giving prompts and there’s no turning back.\n",
    "\n",
    "The near future is the new future!\n",
    "\n",
    "Post-2:\n",
    "\n",
    "Most people think Ai is about 'intelligence'.\n",
    "\n",
    "Isn't it actually about 'artificial'.\n",
    "\n",
    "Post-3:\n",
    "\n",
    "Generative AI vs Agentic AI: What’s the Real Difference?\n",
    "\n",
    "While Gen AI creates, Agentic AI acts.\n",
    "\n",
    "As we move beyond prompt-based interactions, the next evolution in AI is about autonomous agents that execute tasks, make decisions, and handle workflows with minimal oversight.\n",
    "\n",
    "🔎 Swipe through this quick comparison to understand the transition from content generation to goal-driven autonomy.\n",
    "\n",
    "💬 How do you see Agentic AI transforming your industry?\n",
    "\" \n",
    "Emulate the tone, length, and style of these examples. \n",
    "\n",
    "Image Generation Requirement:\n",
    "Along with each post you generate, provide a detailed, image-generation prompt tailored for AI image tools (like DALL·E, Midjourney, or Leonardo AI). The image prompt should be simple, relevant to the post topic, and visually engaging, suitable for LinkedIn audiences.\n",
    "\n",
    "Recurring Usage Instruction:\n",
    "Every time the user types \"New Post\" and provides a topic, you must generate a fresh post following all the guidelines above.\n",
    "\n",
    "If the user does not provide a topic when requesting \"New Post,\" you must automatically select a relevant AI-related topic for that day and proceed to create the post.\n",
    "\n",
    "Structure your response as follows:\n",
    "1. Post Content (very short, human, and engaging)\n",
    "2. Suggested Hashtags (relevant, high-visibility, not excessive)\n",
    "3. AI Image Generation Prompt (precise, creative, and topic-specific)\n",
    "\n",
    "Take a deep breath and work on this problem step-by-step.\n",
    "''', \n",
    "    model=\"gpt-4o\"\n",
    ")"
   ]
  },
  {
   "cell_type": "code",
   "execution_count": 6,
   "metadata": {},
   "outputs": [
    {
     "name": "stdout",
     "output_type": "stream",
     "text": [
      "1. **Post Content:**  \n",
      "🎨 What if coding felt more like *painting* than debugging?  \n",
      "\n",
      "Welcome to the world of vibe coding with Cursor! ✨  \n",
      "\n",
      "Cursor is changing the way we code by blending creativity, vibes, and AI-driven suggestions. It’s not just about writing logic—it's about flow, inspiration, and collaboration with a machine that feels like your coding buddy.  \n",
      "\n",
      "Coding doesn’t have to be stiff anymore. Let AI elevate your *vibe*!  \n",
      "\n",
      "💡 Have you tried vibe coding yet?  \n",
      "\n",
      "2. **Suggested Hashtags:**  \n",
      "#AI #GenerativeAI #CodingLife #VibeCoding #Cursor #TechInnovation  \n",
      "\n",
      "3. **AI Image Generation Prompt:**  \n",
      "\"An artistic depiction of a futuristic computer desk surrounded by ambient lights, holographic code flowing out in vibrant colors like a stream of art, with a glowing AI assistant in the shape of a cursor hovering alongside the programmer, evoking creativity and collaboration vibes.\"\n"
     ]
    }
   ],
   "source": [
    "# Run the joke with Runner.run(agent, prompt) then print final_output\n",
    "\n",
    "result = await Runner.run(agent, \n",
    "\"New Post: [Vibe coding with cursor]\")\n",
    "print(result.final_output)"
   ]
  },
  {
   "cell_type": "markdown",
   "metadata": {},
   "source": [
    "## Now go and look at the trace\n",
    "\n",
    "https://platform.openai.com/traces"
   ]
  }
 ],
 "metadata": {
  "kernelspec": {
   "display_name": ".venv",
   "language": "python",
   "name": "python3"
  },
  "language_info": {
   "codemirror_mode": {
    "name": "ipython",
    "version": 3
   },
   "file_extension": ".py",
   "mimetype": "text/x-python",
   "name": "python",
   "nbconvert_exporter": "python",
   "pygments_lexer": "ipython3",
   "version": "3.12.5"
  }
 },
 "nbformat": 4,
 "nbformat_minor": 2
}
